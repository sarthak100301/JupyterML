{
 "cells": [
  {
   "cell_type": "code",
   "execution_count": 4,
   "metadata": {},
   "outputs": [],
   "source": [
    "import numpy as np\n",
    "import pandas as pd\n",
    "import os\n",
    "from collections import Counter\n",
    "\n",
    "import mode\n",
    "from mode import process_data,visualize_data,mean_parameter,se_parameter,worst_parameter\n",
    "from mode import split_model,ttdata\n",
    "\n",
    "import matplotlib.pyplot as plt\n",
    "import seaborn as sns\n",
    "%matplotlib inline\n",
    "\n",
    "import sklearn\n",
    "from sklearn import metrics\n",
    "from sklearn.model_selection import train_test_split,cross_val_score\n",
    "from sklearn.metrics import accuracy_score,confusion_matrix,classification_report,auc,roc_curve\n",
    "\n",
    "from sklearn.linear_model import LogisticRegression\n",
    "from sklearn.neural_network import MLPClassifier\n",
    "from sklearn.neighbors import KNeighborsClassifier\n",
    "from sklearn.svm import SVC\n",
    "from sklearn.gaussian_process import GaussianProcessClassifier\n",
    "from sklearn.gaussian_process.kernels import RBF\n",
    "from sklearn.tree import DecisionTreeClassifier\n",
    "from sklearn.ensemble import RandomForestClassifier, AdaBoostClassifier\n",
    "from sklearn.naive_bayes import GaussianNB\n",
    "from sklearn.discriminant_analysis import QuadraticDiscriminantAnalysis\n",
    "\n",
    "import warnings\n",
    "warnings.filterwarnings('ignore')\n",
    "\n",
    "np.random.seed(1)"
   ]
  },
  {
   "cell_type": "markdown",
   "metadata": {},
   "source": [
    "# Loading the Data"
   ]
  },
  {
   "cell_type": "code",
   "execution_count": 5,
   "metadata": {},
   "outputs": [],
   "source": [
    "df= pd.read_csv('breast-cancer.csv')"
   ]
  },
  {
   "cell_type": "code",
   "execution_count": 6,
   "metadata": {},
   "outputs": [
    {
     "name": "stdout",
     "output_type": "stream",
     "text": [
      "Column names in data: Index(['id', 'diagnosis', 'radius_mean', 'texture_mean', 'perimeter_mean',\n",
      "       'area_mean', 'smoothness_mean', 'compactness_mean', 'concavity_mean',\n",
      "       'concave points_mean', 'symmetry_mean', 'fractal_dimension_mean',\n",
      "       'radius_se', 'texture_se', 'perimeter_se', 'area_se', 'smoothness_se',\n",
      "       'compactness_se', 'concavity_se', 'concave points_se', 'symmetry_se',\n",
      "       'fractal_dimension_se', 'radius_worst', 'texture_worst',\n",
      "       'perimeter_worst', 'area_worst', 'smoothness_worst',\n",
      "       'compactness_worst', 'concavity_worst', 'concave points_worst',\n",
      "       'symmetry_worst', 'fractal_dimension_worst', 'Unnamed: 32'],\n",
      "      dtype='object')\n"
     ]
    }
   ],
   "source": [
    "print(\"Column names in data:\", df.columns)"
   ]
  },
  {
   "cell_type": "markdown",
   "metadata": {},
   "source": [
    "# Splitting the model for training and testing with a test_size of 20 %"
   ]
  },
  {
   "cell_type": "code",
   "execution_count": 12,
   "metadata": {},
   "outputs": [
    {
     "name": "stdout",
     "output_type": "stream",
     "text": [
      "train data shape (455, 31)\n",
      "test data shape (114, 31)\n"
     ]
    }
   ],
   "source": [
    "train,test=split_model(df)"
   ]
  },
  {
   "cell_type": "code",
   "execution_count": 13,
   "metadata": {},
   "outputs": [],
   "source": [
    "train_X,train_y,test_X,test_y=ttdata(train,test,selected_parameter_mean)"
   ]
  },
  {
   "cell_type": "markdown",
   "metadata": {},
   "source": [
    "# Logistic Regression Classifier"
   ]
  },
  {
   "cell_type": "code",
   "execution_count": 14,
   "metadata": {},
   "outputs": [
    {
     "name": "stdout",
     "output_type": "stream",
     "text": [
      "model accuracy: 90.35%\n",
      "Cross validation score: 89.25% (+/- 7.70%)\n"
     ]
    }
   ],
   "source": [
    "np.random.seed(1)\n",
    "clf = LogisticRegression()\n",
    "clf.fit(train_X,train_y)\n",
    "prediction=clf.predict(test_X)\n",
    "scores = cross_val_score(clf,train_X,train_y, cv=5)\n",
    "mean_acc.append(accuracy_score(prediction,test_y))\n",
    "mean_cvs.append(np.mean(scores))\n",
    "print(\"model accuracy: {0:.2%}\".format(accuracy_score(prediction, test_y)))\n",
    "print(\"Cross validation score: {0:.2%} (+/- {1:.2%})\".format(np.mean(scores), np.std(scores)*2))\n",
    "    #print(\"model accuracy:\",metrics.accuracy_score(prediction)"
   ]
  },
  {
   "cell_type": "markdown",
   "metadata": {},
   "source": [
    "# Nearest Neighbors Classifier"
   ]
  },
  {
   "cell_type": "code",
   "execution_count": 15,
   "metadata": {},
   "outputs": [
    {
     "name": "stdout",
     "output_type": "stream",
     "text": [
      "model accuracy: 86.84%\n",
      "Cross validation score: 90.57% (+/- 5.92%)\n"
     ]
    }
   ],
   "source": [
    "np.random.seed(1)\n",
    "clf = KNeighborsClassifier(n_neighbors=15,p=2,algorithm='kd_tree',leaf_size=20)\n",
    "clf.fit(train_X,train_y)\n",
    "prediction=clf.predict(test_X)\n",
    "scores = cross_val_score(clf,train_X,train_y, cv=5)\n",
    "mean_acc.append(accuracy_score(prediction,test_y))\n",
    "mean_cvs.append(np.mean(scores))\n",
    "print(\"model accuracy: {0:.2%}\".format(accuracy_score(prediction, test_y)))\n",
    "print(\"Cross validation score: {0:.2%} (+/- {1:.2%})\".format(np.mean(scores), np.std(scores)*2))\n",
    "    #print(\"model accuracy:\",metrics.accuracy_score(prediction)"
   ]
  },
  {
   "cell_type": "markdown",
   "metadata": {},
   "source": [
    "# Decision Tree Classifier"
   ]
  },
  {
   "cell_type": "code",
   "execution_count": 16,
   "metadata": {},
   "outputs": [
    {
     "name": "stdout",
     "output_type": "stream",
     "text": [
      "model accuracy: 85.09%\n",
      "Cross validation score: 92.32% (+/- 4.72%)\n"
     ]
    }
   ],
   "source": [
    "np.random.seed(1)\n",
    "clf = DecisionTreeClassifier(splitter='best')\n",
    "clf.fit(train_X,train_y)\n",
    "prediction=clf.predict(test_X)\n",
    "scores = cross_val_score(clf,train_X,train_y, cv=5)\n",
    "mean_acc.append(accuracy_score(prediction,test_y))\n",
    "mean_cvs.append(np.mean(scores))\n",
    "print(\"model accuracy: {0:.2%}\".format(accuracy_score(prediction, test_y)))\n",
    "print(\"Cross validation score: {0:.2%} (+/- {1:.2%})\".format(np.mean(scores), np.std(scores)*2))\n",
    "    #print(\"model accuracy:\",metrics.accuracy_score(prediction)"
   ]
  },
  {
   "cell_type": "markdown",
   "metadata": {},
   "source": [
    "# Random Forest Classifier"
   ]
  },
  {
   "cell_type": "code",
   "execution_count": 17,
   "metadata": {},
   "outputs": [
    {
     "name": "stdout",
     "output_type": "stream",
     "text": [
      "model accuracy: 87.72%\n",
      "Cross validation score: 93.19% (+/- 2.54%)\n"
     ]
    }
   ],
   "source": [
    "np.random.seed(1)\n",
    "clf = RandomForestClassifier(n_estimators=100)\n",
    "clf.fit(train_X,train_y)\n",
    "prediction=clf.predict(test_X)\n",
    "scores = cross_val_score(clf,train_X,train_y, cv=5)\n",
    "mean_acc.append(accuracy_score(prediction,test_y))\n",
    "mean_cvs.append(np.mean(scores))\n",
    "print(\"model accuracy: {0:.2%}\".format(accuracy_score(prediction, test_y)))\n",
    "print(\"Cross validation score: {0:.2%} (+/- {1:.2%})\".format(np.mean(scores), np.std(scores)*2))\n",
    "    #print(\"model accuracy:\",metrics.accuracy_score(prediction)"
   ]
  },
  {
   "cell_type": "markdown",
   "metadata": {},
   "source": [
    "# Naive Bayes Classifier"
   ]
  },
  {
   "cell_type": "code",
   "execution_count": 18,
   "metadata": {},
   "outputs": [
    {
     "name": "stdout",
     "output_type": "stream",
     "text": [
      "model accuracy: 89.47%\n",
      "Cross validation score: 91.66% (+/- 5.59%)\n"
     ]
    }
   ],
   "source": [
    "np.random.seed(1)\n",
    "clf = GaussianNB(var_smoothing=1e-7)\n",
    "clf.fit(train_X,train_y)\n",
    "prediction=clf.predict(test_X)\n",
    "scores = cross_val_score(clf,train_X,train_y, cv=5)\n",
    "mean_acc.append(accuracy_score(prediction,test_y))\n",
    "mean_cvs.append(np.mean(scores))\n",
    "print(\"model accuracy: {0:.2%}\".format(accuracy_score(prediction, test_y)))\n",
    "print(\"Cross validation score: {0:.2%} (+/- {1:.2%})\".format(np.mean(scores), np.std(scores)*2))\n",
    "    #print(\"model accuracy:\",metrics.accuracy_score(prediction)"
   ]
  },
  {
   "cell_type": "markdown",
   "metadata": {},
   "source": [
    "# Splitting the model for training and testing with a test_size of 20 %"
   ]
  },
  {
   "cell_type": "code",
   "execution_count": 27,
   "metadata": {},
   "outputs": [
    {
     "name": "stdout",
     "output_type": "stream",
     "text": [
      "train data shape (455, 31)\n",
      "test data shape (114, 31)\n"
     ]
    }
   ],
   "source": [
    "train,test=split_model(df)"
   ]
  },
  {
   "cell_type": "code",
   "execution_count": 28,
   "metadata": {},
   "outputs": [],
   "source": [
    "train_X,train_y,test_X,test_y=ttdata(train,test,selected_parameter_se)"
   ]
  },
  {
   "cell_type": "markdown",
   "metadata": {},
   "source": [
    "# Logistic Regression Classifier"
   ]
  },
  {
   "cell_type": "code",
   "execution_count": 29,
   "metadata": {},
   "outputs": [
    {
     "name": "stdout",
     "output_type": "stream",
     "text": [
      "model accuracy: 89.47%\n",
      "Cross validation score: 80.89% (+/- 7.50%)\n"
     ]
    }
   ],
   "source": [
    "np.random.seed(1)\n",
    "clf = LogisticRegression(tol=1e-4)\n",
    "clf.fit(train_X,train_y)\n",
    "\n",
    "prediction=clf.predict(test_X)\n",
    "scores = cross_val_score(clf,train_X,train_y, cv=5)\n",
    "se_acc.append(accuracy_score(prediction,test_y))\n",
    "se_cvs.append(np.mean(scores))\n",
    "print(\"model accuracy: {0:.2%}\".format(accuracy_score(prediction, test_y)))\n",
    "print(\"Cross validation score: {0:.2%} (+/- {1:.2%})\".format(np.mean(scores), np.std(scores)*2))\n",
    "    #print(\"model accuracy:\",metrics.accuracy_score(prediction)"
   ]
  },
  {
   "cell_type": "markdown",
   "metadata": {},
   "source": [
    "# Nearest Neighbors Classifier"
   ]
  },
  {
   "cell_type": "code",
   "execution_count": 30,
   "metadata": {},
   "outputs": [
    {
     "name": "stdout",
     "output_type": "stream",
     "text": [
      "model accuracy: 86.84%\n",
      "Cross validation score: 81.33% (+/- 6.69%)\n"
     ]
    }
   ],
   "source": [
    "np.random.seed(1)\n",
    "clf = KNeighborsClassifier(n_neighbors=15,p=2,algorithm='ball_tree',leaf_size=20)\n",
    "clf.fit(train_X,train_y)\n",
    "\n",
    "prediction=clf.predict(test_X)\n",
    "scores = cross_val_score(clf,train_X,train_y, cv=5)\n",
    "se_acc.append(accuracy_score(prediction,test_y))\n",
    "se_cvs.append(np.mean(scores))\n",
    "print(\"model accuracy: {0:.2%}\".format(accuracy_score(prediction, test_y)))\n",
    "print(\"Cross validation score: {0:.2%} (+/- {1:.2%})\".format(np.mean(scores), np.std(scores)*2))\n",
    "    #print(\"model accuracy:\",metrics.accuracy_score(prediction)"
   ]
  },
  {
   "cell_type": "markdown",
   "metadata": {},
   "source": [
    "# Decision Tree Classifier"
   ]
  },
  {
   "cell_type": "code",
   "execution_count": 31,
   "metadata": {},
   "outputs": [
    {
     "name": "stdout",
     "output_type": "stream",
     "text": [
      "model accuracy: 82.46%\n",
      "Cross validation score: 76.04% (+/- 2.66%)\n"
     ]
    }
   ],
   "source": [
    "np.random.seed(1)\n",
    "clf = DecisionTreeClassifier(splitter='best')\n",
    "clf.fit(train_X,train_y)\n",
    "\n",
    "prediction=clf.predict(test_X)\n",
    "scores = cross_val_score(clf,train_X,train_y, cv=5)\n",
    "se_acc.append(accuracy_score(prediction,test_y))\n",
    "se_cvs.append(np.mean(scores))\n",
    "print(\"model accuracy: {0:.2%}\".format(accuracy_score(prediction, test_y)))\n",
    "print(\"Cross validation score: {0:.2%} (+/- {1:.2%})\".format(np.mean(scores), np.std(scores)*2))\n",
    "    #print(\"model accuracy:\",metrics.accuracy_score(prediction)"
   ]
  },
  {
   "cell_type": "markdown",
   "metadata": {},
   "source": [
    "# Random Forest Classifier"
   ]
  },
  {
   "cell_type": "code",
   "execution_count": 32,
   "metadata": {},
   "outputs": [
    {
     "name": "stdout",
     "output_type": "stream",
     "text": [
      "model accuracy: 83.33%\n",
      "Cross validation score: 80.22% (+/- 4.40%)\n"
     ]
    }
   ],
   "source": [
    "np.random.seed(1)\n",
    "clf = RandomForestClassifier(n_estimators=100)\n",
    "clf.fit(train_X,train_y)\n",
    "\n",
    "prediction=clf.predict(test_X)\n",
    "scores = cross_val_score(clf,train_X,train_y, cv=5)\n",
    "se_acc.append(accuracy_score(prediction,test_y))\n",
    "se_cvs.append(np.mean(scores))\n",
    "print(\"model accuracy: {0:.2%}\".format(accuracy_score(prediction, test_y)))\n",
    "print(\"Cross validation score: {0:.2%} (+/- {1:.2%})\".format(np.mean(scores), np.std(scores)*2))\n",
    "    #print(\"model accuracy:\",metrics.accuracy_score(prediction)"
   ]
  },
  {
   "cell_type": "markdown",
   "metadata": {},
   "source": [
    "# Naive Bayes Classifier"
   ]
  },
  {
   "cell_type": "code",
   "execution_count": 33,
   "metadata": {},
   "outputs": [
    {
     "name": "stdout",
     "output_type": "stream",
     "text": [
      "model accuracy: 89.47%\n",
      "Cross validation score: 76.50% (+/- 5.58%)\n"
     ]
    }
   ],
   "source": [
    "np.random.seed(1)\n",
    "clf = GaussianNB(var_smoothing=1e-7)\n",
    "clf.fit(train_X,train_y)\n",
    "\n",
    "prediction=clf.predict(test_X)\n",
    "scores = cross_val_score(clf,train_X,train_y, cv=5)\n",
    "se_acc.append(accuracy_score(prediction,test_y))\n",
    "se_cvs.append(np.mean(scores))\n",
    "print(\"model accuracy: {0:.2%}\".format(accuracy_score(prediction, test_y)))\n",
    "print(\"Cross validation score: {0:.2%} (+/- {1:.2%})\".format(np.mean(scores), np.std(scores)*2))\n",
    "    #print(\"model accuracy:\",metrics.accuracy_score(prediction)"
   ]
  },
  {
   "cell_type": "markdown",
   "metadata": {},
   "source": [
    "# Splitting the model for training and testing with a test_size of 20 %"
   ]
  },
  {
   "cell_type": "code",
   "execution_count": 42,
   "metadata": {},
   "outputs": [
    {
     "name": "stdout",
     "output_type": "stream",
     "text": [
      "train data shape (455, 31)\n",
      "test data shape (114, 31)\n"
     ]
    }
   ],
   "source": [
    "train,test=split_model(df)"
   ]
  },
  {
   "cell_type": "code",
   "execution_count": 43,
   "metadata": {},
   "outputs": [],
   "source": [
    "train_X,train_y,test_X,test_y=ttdata(train,test,selected_parameter_worst)"
   ]
  },
  {
   "cell_type": "markdown",
   "metadata": {},
   "source": [
    "# Logistic Regression Classifier"
   ]
  },
  {
   "cell_type": "code",
   "execution_count": 44,
   "metadata": {},
   "outputs": [
    {
     "name": "stdout",
     "output_type": "stream",
     "text": [
      "model accuracy: 95.61%\n",
      "Cross validation score: 94.07% (+/- 3.26%)\n"
     ]
    }
   ],
   "source": [
    "np.random.seed(1)\n",
    "clf = LogisticRegression()\n",
    "clf.fit(train_X,train_y)\n",
    "\n",
    "prediction=clf.predict(test_X)\n",
    "scores = cross_val_score(clf,train_X,train_y, cv=5)\n",
    "worst_acc.append(accuracy_score(prediction,test_y))\n",
    "worst_cvs.append(np.mean(scores))\n",
    "print(\"model accuracy: {0:.2%}\".format(accuracy_score(prediction, test_y)))\n",
    "print(\"Cross validation score: {0:.2%} (+/- {1:.2%})\".format(np.mean(scores), np.std(scores)*2))\n",
    "    #print(\"model accuracy:\",metrics.accuracy_score(prediction)"
   ]
  },
  {
   "cell_type": "markdown",
   "metadata": {},
   "source": [
    "# Nearest Neighbors Classifier"
   ]
  },
  {
   "cell_type": "code",
   "execution_count": 45,
   "metadata": {},
   "outputs": [
    {
     "name": "stdout",
     "output_type": "stream",
     "text": [
      "model accuracy: 93.86%\n",
      "Cross validation score: 94.95% (+/- 1.69%)\n"
     ]
    }
   ],
   "source": [
    "np.random.seed(1)\n",
    "clf = KNeighborsClassifier(n_neighbors=15,p=2,algorithm='kd_tree',leaf_size=20)\n",
    "clf.fit(train_X,train_y)\n",
    "\n",
    "prediction=clf.predict(test_X)\n",
    "scores = cross_val_score(clf,train_X,train_y, cv=5)\n",
    "worst_acc.append(accuracy_score(prediction,test_y))\n",
    "worst_cvs.append(np.mean(scores))\n",
    "print(\"model accuracy: {0:.2%}\".format(accuracy_score(prediction, test_y)))\n",
    "print(\"Cross validation score: {0:.2%} (+/- {1:.2%})\".format(np.mean(scores), np.std(scores)*2))\n",
    "    #print(\"model accuracy:\",metrics.accuracy_score(prediction)"
   ]
  },
  {
   "cell_type": "markdown",
   "metadata": {},
   "source": [
    "# Decision Tree Classifier"
   ]
  },
  {
   "cell_type": "code",
   "execution_count": 46,
   "metadata": {},
   "outputs": [
    {
     "name": "stdout",
     "output_type": "stream",
     "text": [
      "model accuracy: 89.47%\n",
      "Cross validation score: 94.07% (+/- 2.20%)\n"
     ]
    }
   ],
   "source": [
    "np.random.seed(1)\n",
    "clf = DecisionTreeClassifier(splitter='best')\n",
    "clf.fit(train_X,train_y)\n",
    "\n",
    "prediction=clf.predict(test_X)\n",
    "scores = cross_val_score(clf,train_X,train_y, cv=5)\n",
    "worst_acc.append(accuracy_score(prediction,test_y))\n",
    "worst_cvs.append(np.mean(scores))\n",
    "print(\"model accuracy: {0:.2%}\".format(accuracy_score(prediction, test_y)))\n",
    "print(\"Cross validation score: {0:.2%} (+/- {1:.2%})\".format(np.mean(scores), np.std(scores)*2))\n",
    "    #print(\"model accuracy:\",metrics.accuracy_score(prediction)"
   ]
  },
  {
   "cell_type": "markdown",
   "metadata": {},
   "source": [
    "# Random Forest Classifier"
   ]
  },
  {
   "cell_type": "code",
   "execution_count": 47,
   "metadata": {},
   "outputs": [
    {
     "name": "stdout",
     "output_type": "stream",
     "text": [
      "model accuracy: 94.74%\n",
      "Cross validation score: 96.26% (+/- 1.76%)\n"
     ]
    }
   ],
   "source": [
    "np.random.seed(1)\n",
    "clf = RandomForestClassifier(n_estimators=100)\n",
    "clf.fit(train_X,train_y)\n",
    "\n",
    "prediction=clf.predict(test_X)\n",
    "scores = cross_val_score(clf,train_X,train_y, cv=5)\n",
    "worst_acc.append(accuracy_score(prediction,test_y))\n",
    "worst_cvs.append(np.mean(scores))\n",
    "print(\"model accuracy: {0:.2%}\".format(accuracy_score(prediction, test_y)))\n",
    "print(\"Cross validation score: {0:.2%} (+/- {1:.2%})\".format(np.mean(scores), np.std(scores)*2))\n",
    "    #print(\"model accuracy:\",metrics.accuracy_score(prediction)"
   ]
  },
  {
   "cell_type": "markdown",
   "metadata": {},
   "source": [
    "# Naive Bayes Classifier"
   ]
  },
  {
   "cell_type": "code",
   "execution_count": 48,
   "metadata": {},
   "outputs": [
    {
     "name": "stdout",
     "output_type": "stream",
     "text": [
      "model accuracy: 95.61%\n",
      "Cross validation score: 95.17% (+/- 2.61%)\n"
     ]
    }
   ],
   "source": [
    "np.random.seed(1)\n",
    "clf = GaussianNB(var_smoothing=1e-7)\n",
    "clf.fit(train_X,train_y)\n",
    "\n",
    "prediction=clf.predict(test_X)\n",
    "scores = cross_val_score(clf,train_X,train_y, cv=5)\n",
    "worst_acc.append(accuracy_score(prediction,test_y))\n",
    "worst_cvs.append(np.mean(scores))\n",
    "print(\"model accuracy: {0:.2%}\".format(accuracy_score(prediction, test_y)))\n",
    "print(\"Cross validation score: {0:.2%} (+/- {1:.2%})\".format(np.mean(scores), np.std(scores)*2))\n",
    "    #print(\"model accuracy:\",metrics.accuracy_score(prediction)"
   ]
  },
  {
   "cell_type": "code",
   "execution_count": 65,
   "metadata": {},
   "outputs": [
    {
     "name": "stdout",
     "output_type": "stream",
     "text": [
      "Accuracy score 0.956140\n",
      "              precision    recall  f1-score   support\n",
      "\n",
      "           0       1.00      0.94      0.97        88\n",
      "           1       0.84      1.00      0.91        26\n",
      "\n",
      "    accuracy                           0.96       114\n",
      "   macro avg       0.92      0.97      0.94       114\n",
      "weighted avg       0.96      0.96      0.96       114\n",
      "\n"
     ]
    }
   ],
   "source": [
    "print(\"Accuracy score %f\" % accuracy_score(test_y, prediction))\n",
    "print(classification_report(test_y, prediction))"
   ]
  }
 ],
 "metadata": {
  "kernelspec": {
   "display_name": "Python 3 (ipykernel)",
   "language": "python",
   "name": "python3"
  },
  "language_info": {
   "codemirror_mode": {
    "name": "ipython",
    "version": 3
   },
   "file_extension": ".py",
   "mimetype": "text/x-python",
   "name": "python",
   "nbconvert_exporter": "python",
   "pygments_lexer": "ipython3",
   "version": "3.9.7"
  }
 },
 "nbformat": 4,
 "nbformat_minor": 2
}
